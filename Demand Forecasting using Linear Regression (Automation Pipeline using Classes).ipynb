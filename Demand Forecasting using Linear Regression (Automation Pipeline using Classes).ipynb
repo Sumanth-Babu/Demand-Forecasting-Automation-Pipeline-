{
 "cells": [
  {
   "cell_type": "code",
   "execution_count": 2,
   "id": "1ba5a8ba",
   "metadata": {},
   "outputs": [
    {
     "data": {
      "image/png": "[encoded data removed]",
      "text/plain": [
       "<Figure size 432x288 with 1 Axes>"
      ]
     },
     "metadata": {
      "needs_background": "light"
     },
     "output_type": "display_data"
    },
    {
     "name": "stdout",
     "output_type": "stream",
     "text": [
      "Mean Absolute Error: 19.0\n",
      "Future Predictions: [162. 174. 186. 198. 210. 222. 234. 246. 258. 270. 282. 294. 306. 318.\n",
      " 330. 342. 354. 366. 378. 390. 402. 414. 426. 438. 450. 462. 474. 486.\n",
      " 138. 150. 162. 174. 186. 198. 210. 222. 234. 246. 258. 270. 282. 294.\n",
      " 306. 318. 330. 342. 354. 366. 378. 390. 402. 414. 426. 438. 450. 462.\n",
      " 474. 486. 498. 138. 150. 162. 174. 186. 198. 210. 222. 234. 246. 258.\n",
      " 270. 282. 294. 306. 318. 330. 342. 354. 366. 378. 390. 402. 414. 426.\n",
      " 438. 450. 462. 474. 486. 498. 138. 150. 162. 174. 186. 198. 210. 222.\n",
      " 234. 246. 258. 270. 282. 294. 306. 318. 330. 342. 354. 366. 378. 390.\n",
      " 402. 414. 426. 438. 450. 462. 474. 486. 138. 150. 162. 174. 186. 198.\n",
      " 210. 222. 234. 246. 258. 270. 282. 294. 306. 318. 330. 342. 354. 366.\n",
      " 378. 390. 402. 414. 426. 438. 450. 462. 474. 486. 498. 138. 150. 162.\n",
      " 174. 186. 198. 210. 222. 234. 246. 258. 270. 282. 294. 306. 318. 330.\n",
      " 342. 354. 366. 378. 390. 402. 414. 426. 438. 450. 462. 474. 486. 138.\n",
      " 150. 162. 174. 186. 198. 210. 222. 234. 246. 258. 270. 282. 294. 306.\n",
      " 318. 330. 342. 354. 366. 378. 390. 402. 414. 426. 438. 450. 462. 474.\n",
      " 486. 498.]\n"
     ]
    }
   ],
   "source": [
    "import pandas as pd\n",
    "import matplotlib.pyplot as plt\n",
    "from sklearn.model_selection import train_test_split\n",
    "from sklearn.linear_model import LinearRegression\n",
    "from sklearn.metrics import mean_absolute_error\n",
    "from sklearn.compose import TransformedTargetRegressor\n",
    "from sklearn.preprocessing import FunctionTransformer\n",
    "\n",
    "\n",
    "class DemandForecasting:\n",
    "    def __init__(self, data_file):\n",
    "        self.data_file = data_file\n",
    "        self.data = None\n",
    "        self.preprocessed_data = None\n",
    "        self.data_with_features = None\n",
    "        self.X_train = None\n",
    "        self.X_test = None\n",
    "        self.y_train = None\n",
    "        self.y_test = None\n",
    "        self.model = None\n",
    "        self.y_pred = None\n",
    "        self.future_predictions = None\n",
    "\n",
    "    def load_data(self):\n",
    "        self.data = pd.read_csv(self.data_file)\n",
    "        self.data['date'] = pd.to_datetime(self.data['date'])\n",
    "\n",
    "    def preprocess_data(self):\n",
    "        self.data.set_index('date', inplace=True)\n",
    "        self.preprocessed_data = self.data.copy()\n",
    "\n",
    "    def visualize_data(self):\n",
    "        plt.plot(self.preprocessed_data.index, self.preprocessed_data['sales'])\n",
    "        plt.title('Historical Sales Data')\n",
    "        plt.xlabel('Date')\n",
    "        plt.ylabel('Sales')\n",
    "        plt.show()\n",
    "\n",
    "    def feature_engineering(self):\n",
    "        self.data_with_features = self.preprocessed_data.copy()\n",
    "        self.data_with_features['year'] = self.data_with_features.index.year\n",
    "        self.data_with_features['month'] = self.data_with_features.index.month\n",
    "        self.data_with_features['day'] = self.data_with_features.index.day\n",
    "\n",
    "    def perform_train_test_split(self):\n",
    "        X = self.data_with_features[['year', 'month', 'day']]\n",
    "        y = self.data_with_features['sales']\n",
    "        self.X_train, self.X_test, self.y_train, self.y_test = train_test_split(X, y, test_size=0.2, random_state=42)\n",
    "\n",
    "    def train_model(self):\n",
    "        self.model = TransformedTargetRegressor(regressor=LinearRegression())\n",
    "        self.model.fit(self.X_train, self.y_train)\n",
    "\n",
    "    def make_predictions(self):\n",
    "        self.y_pred = self.model.predict(self.X_test)\n",
    "\n",
    "    def evaluate_model(self):\n",
    "        mae = mean_absolute_error(self.y_test, self.y_pred)\n",
    "        print('Mean Absolute Error:', mae)\n",
    "\n",
    "    def make_future_predictions(self):\n",
    "        future_dates = pd.date_range(start='2023-06-03', end='2023-12-31', freq='D')\n",
    "        future_data = pd.DataFrame(index=future_dates, columns=['year', 'month', 'day'])\n",
    "        future_data['year'] = future_data.index.year\n",
    "        future_data['month'] = future_data.index.month\n",
    "        future_data['day'] = future_data.index.day\n",
    "        self.future_predictions = self.model.predict(future_data)\n",
    "\n",
    "    def run_demand_forecasting(self):\n",
    "        self.load_data()\n",
    "        self.preprocess_data()\n",
    "        self.visualize_data()\n",
    "        self.feature_engineering()\n",
    "        self.perform_train_test_split()\n",
    "        self.train_model()\n",
    "        self.make_predictions()\n",
    "        self.evaluate_model()\n",
    "        self.make_future_predictions()\n",
    "\n",
    "\n",
    "# Create an instance of the DemandForecasting class\n",
    "demand_forecaster = DemandForecasting('sales_data.csv')\n",
    "\n",
    "# Run the demand forecasting pipeline\n",
    "demand_forecaster.run_demand_forecasting()\n",
    "\n",
    "# Access the future predictions\n",
    "future_predictions = demand_forecaster.future_predictions\n",
    "print('Future Predictions:', future_predictions)\n"
   ]
  },
  {
   "cell_type": "code",
   "execution_count": null,
   "id": "8fc5c790",
   "metadata": {},
   "outputs": [],
   "source": []
  }
 ],
 "metadata": {
  "kernelspec": {
   "display_name": "Python 3 (ipykernel)",
   "language": "python",
   "name": "python3"
  },
  "language_info": {
   "codemirror_mode": {
    "name": "ipython",
    "version": 3
   },
   "file_extension": ".py",
   "mimetype": "text/x-python",
   "name": "python",
   "nbconvert_exporter": "python",
   "pygments_lexer": "ipython3",
   "version": "3.9.12"
  }
 },
 "nbformat": 4,
 "nbformat_minor": 5
}
